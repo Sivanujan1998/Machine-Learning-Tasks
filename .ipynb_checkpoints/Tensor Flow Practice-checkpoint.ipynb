{
 "cells": [
  {
   "cell_type": "code",
   "execution_count": 6,
   "id": "8b9121c5",
   "metadata": {},
   "outputs": [
    {
     "name": "stdout",
     "output_type": "stream",
     "text": [
      "2.13.0\n"
     ]
    }
   ],
   "source": [
    "##Import all Libraries\n",
    "\n",
    "#using for data extraction and pre processing\n",
    "import pandas as pd  \n",
    "\n",
    "#using for large multi-dimensional array and matrix processing, \n",
    "#used to perform a great variety of mathematical operations\n",
    "import numpy as np \n",
    "\n",
    "#It can train and run deep neural networks that can be used to develop several AI applications, \n",
    "# A tensor is an N-dimentional array of data\n",
    "import tensorflow as tf\n",
    "\n",
    "\n"
   ]
  },
  {
   "cell_type": "code",
   "execution_count": 7,
   "id": "d9cc8fe5",
   "metadata": {},
   "outputs": [
    {
     "name": "stdout",
     "output_type": "stream",
     "text": [
      "2.13.0\n"
     ]
    }
   ],
   "source": [
    "print(tf.__version__)"
   ]
  },
  {
   "cell_type": "code",
   "execution_count": 40,
   "id": "c9089130",
   "metadata": {},
   "outputs": [
    {
     "name": "stdout",
     "output_type": "stream",
     "text": [
      "tf.Tensor([0. 1. 2. 3. 4. 5. 6. 7. 8.], shape=(9,), dtype=float64)\n"
     ]
    }
   ],
   "source": [
    "#Initalization of Tensors\n",
    "x1 = tf.constant(4, shape=(1,1), dtype=tf.float32) #tf.Tensor([[4.]], shape=(1, 1), dtype=float32)\n",
    "\n",
    "x2=tf.constant([[1,2,3],[4,5,6]]) \n",
    "\"\"\"\n",
    "tf.Tensor(\n",
    "[[1 2 3]\n",
    " [4 5 6]], shape=(2, 3), dtype=int32)\n",
    "\"\"\"\n",
    "\n",
    "x3=tf.ones((3,3))\n",
    "\"\"\"\n",
    "tf.Tensor(\n",
    "[[1. 1. 1.]\n",
    " [1. 1. 1.]\n",
    " [1. 1. 1.]], shape=(3, 3), dtype=float32)\n",
    "\"\"\"\n",
    "\n",
    "x4=tf.zeros((2,3))\n",
    "\"\"\"\n",
    "tf.Tensor(\n",
    "[[0. 0. 0.]\n",
    " [0. 0. 0.]], shape=(2, 3), dtype=float32)\n",
    "\"\"\"\n",
    "\n",
    "x5=tf.eye(3) #create an Identity matrix  I=eye\n",
    "\"\"\"\n",
    "tf.Tensor(\n",
    "[[1. 0. 0.]\n",
    " [0. 1. 0.]\n",
    " [0. 0. 1.]], shape=(3, 3), dtype=float32)\n",
    "\"\"\"\n",
    "\n",
    "x6 = tf.random.normal((3,3), mean=0, stddev=1)\n",
    "\"\"\"\n",
    "tf.Tensor(\n",
    "[[ 0.9437635   0.7588944  -0.19032422]\n",
    " [-0.36950937 -1.047384    0.15865177]\n",
    " [ 1.45754    -0.9266152   0.565217  ]], shape=(3, 3), dtype=float32)\n",
    "\"\"\"\n",
    "\n",
    "x7 = tf.random.uniform((1,3), minval=0, maxval=1)\n",
    "\"\"\"\n",
    "tf.Tensor([[0.05507338 0.8684828  0.3917948 ]], shape=(1, 3), dtype=float32)\n",
    "\"\"\"\n",
    "\n",
    "x8=tf.range(9) #tf.Tensor([0 1 2 3 4 5 6 7 8], shape=(9,), dtype=int32)#\n",
    "\n",
    "x9=tf.range(start=1, limit=10, delta=2) ##tf.Tensor([1 3 5 7 9], shape=(5,), dtype=int32)\n",
    "\n",
    "x10 = tf.cast(tf.range(9), dtype=tf.float64) ##tf.Tensor([0. 1. 2. 3. 4. 5. 6. 7. 8.], shape=(9,), dtype=float64)\n",
    "\n",
    "print(x10)"
   ]
  },
  {
   "cell_type": "code",
   "execution_count": 55,
   "id": "8bf9a967",
   "metadata": {},
   "outputs": [
    {
     "name": "stdout",
     "output_type": "stream",
     "text": [
      "tf.Tensor(\n",
      "[[-5.2641803e-01  6.4775348e-04 -2.9182136e-01  9.3391502e-01]\n",
      " [ 1.1227100e+00  1.2422574e+00 -6.9583523e-01  1.7548931e+00]], shape=(2, 4), dtype=float32)\n"
     ]
    }
   ],
   "source": [
    "# Mathematical Operations\n",
    "x = tf.constant([1,2,3])\n",
    "y = tf.constant([9,8,7])\n",
    "\n",
    "z = tf.add(x,y)  ##tf.Tensor([10 10 10], shape=(3,), dtype=int32)\n",
    "z=x+y\n",
    "\n",
    "z = tf.subtract(x,y)  ##tf.Tensor([-8 -6 -4], shape=(3,), dtype=int32)\n",
    "\n",
    "z = tf.divide(x,y) \n",
    "z = tf.multiply(x,y) \n",
    "\n",
    "z = tf.tensordot(x,y,axes=1) ##x*y+x*y+x*y  tf.Tensor(46, shape=(), dtype=int32)\n",
    "z = tf.reduce_sum(x*y,axis=0) ##x*y+x*y+x*y  tf.Tensor(46, shape=(), dtype=int32)\n",
    "\n",
    "z=x**5  ##tf.Tensor([  1  32 243], shape=(3,), dtype=int32)\n",
    "\n",
    "x=tf.random.normal((2,3))  ##random 2*3 matrix\n",
    "y=tf.random.normal((3,4))\n",
    "z=tf.matmul(x,y) ##multiply matrix\n",
    "z=x@y ##multiply matrix same usage\n",
    " \n",
    "print(z)\n"
   ]
  },
  {
   "cell_type": "code",
   "execution_count": 79,
   "id": "a2ca10e5",
   "metadata": {},
   "outputs": [
    {
     "name": "stdout",
     "output_type": "stream",
     "text": [
      "tf.Tensor([1 2 3 4 5 6 7 8 9], shape=(9,), dtype=int32)\n",
      "tf.Tensor([2 3 4 5 6 7 8 9], shape=(8,), dtype=int32)\n",
      "tf.Tensor([2 3], shape=(2,), dtype=int32)\n",
      "tf.Tensor([1 3 5 7 9], shape=(5,), dtype=int32)\n",
      "tf.Tensor([9 7 5 3 1], shape=(5,), dtype=int32)\n",
      "tf.Tensor([1 4], shape=(2,), dtype=int32)\n",
      "tf.Tensor([1 2], shape=(2,), dtype=int32)\n",
      "tf.Tensor(\n",
      "[[1 2]\n",
      " [3 4]], shape=(2, 2), dtype=int32)\n",
      "tf.Tensor(\n",
      "[[2 1]\n",
      " [4 3]], shape=(2, 2), dtype=int32)\n"
     ]
    }
   ],
   "source": [
    "##Indexing\n",
    "x=tf.constant([1,2,3,4,5,6,7,8,9])\n",
    "print(x[:])\n",
    "print(x[1:])\n",
    "print(x[1:3])\n",
    "print(x[::2])\n",
    "print(x[::-2])\n",
    "\"\"\"\n",
    "tf.Tensor([1 2 3 4 5 6 7 8 9], shape=(9,), dtype=int32)\n",
    "tf.Tensor([2 3 4 5 6 7 8 9], shape=(8,), dtype=int32)\n",
    "tf.Tensor([2 3], shape=(2,), dtype=int32)\n",
    "tf.Tensor([1 3 5 7 9], shape=(5,), dtype=int32)\n",
    "tf.Tensor([9 7 5 3 1], shape=(5,), dtype=int32)\n",
    "\"\"\"\n",
    "\n",
    "indices = tf.constant([0,3])\n",
    "x_ind = tf.gather(x,indices)\n",
    "print(x_ind)\n",
    "##tf.Tensor([1 4], shape=(2,), dtype=int32)\n",
    "\n",
    "x1=tf.constant([[1,2],[3,4],[5,6]])\n",
    "print(x1[0,:])\n",
    "print(x1[0:2,:])\n",
    "print(x1[0:2,::-1])\n",
    "\"\"\"\n",
    "tf.Tensor([1 2], shape=(2,), dtype=int32)\n",
    "tf.Tensor(\n",
    "[[1 2]\n",
    " [3 4]], shape=(2, 2), dtype=int32)\n",
    "tf.Tensor(\n",
    "[[2 1]\n",
    " [4 3]], shape=(2, 2), dtype=int32)\n",
    " \n",
    "\"\"\"\n"
   ]
  },
  {
   "cell_type": "code",
   "execution_count": 85,
   "id": "bb4b7e32",
   "metadata": {},
   "outputs": [
    {
     "name": "stdout",
     "output_type": "stream",
     "text": [
      "tf.Tensor(\n",
      "[[0 1 2]\n",
      " [3 4 5]\n",
      " [6 7 8]], shape=(3, 3), dtype=int32)\n",
      "tf.Tensor(\n",
      "[[0 3 6]\n",
      " [1 4 7]\n",
      " [2 5 8]], shape=(3, 3), dtype=int32)\n"
     ]
    },
    {
     "data": {
      "text/plain": [
       "'\\ntf.Tensor(\\n[[0 3 6]\\n [1 4 7]\\n [2 5 8]], shape=(3, 3), dtype=int32)\\n'"
      ]
     },
     "execution_count": 85,
     "metadata": {},
     "output_type": "execute_result"
    }
   ],
   "source": [
    "# Reshaping\n",
    "x=tf.range(9)\n",
    "x=tf.reshape(x,(3,3))\n",
    "print(x)\n",
    "\n",
    "\"\"\"\n",
    "tf.Tensor(\n",
    "[[0 1 2]\n",
    " [3 4 5]\n",
    " [6 7 8]], shape=(3, 3), dtype=int32)\n",
    "\"\"\"\n",
    "\n",
    "x=tf.transpose(x,perm=[1,0])\n",
    "print(x)\n",
    "\n",
    "\"\"\"\n",
    "row rplace into column\n",
    "tf.Tensor(\n",
    "[[0 3 6]\n",
    " [1 4 7]\n",
    " [2 5 8]], shape=(3, 3), dtype=int32)\n",
    "\"\"\""
   ]
  },
  {
   "cell_type": "code",
   "execution_count": null,
   "id": "0496d52e",
   "metadata": {},
   "outputs": [],
   "source": [
    "\n"
   ]
  }
 ],
 "metadata": {
  "kernelspec": {
   "display_name": "Python 3 (ipykernel)",
   "language": "python",
   "name": "python3"
  },
  "language_info": {
   "codemirror_mode": {
    "name": "ipython",
    "version": 3
   },
   "file_extension": ".py",
   "mimetype": "text/x-python",
   "name": "python",
   "nbconvert_exporter": "python",
   "pygments_lexer": "ipython3",
   "version": "3.11.3"
  }
 },
 "nbformat": 4,
 "nbformat_minor": 5
}
