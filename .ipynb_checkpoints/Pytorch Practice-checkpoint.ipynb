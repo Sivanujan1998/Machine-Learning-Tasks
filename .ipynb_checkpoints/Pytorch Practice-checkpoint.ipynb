{
 "cells": [
  {
   "cell_type": "code",
   "execution_count": 2,
   "id": "c6b76541",
   "metadata": {},
   "outputs": [
    {
     "name": "stdout",
     "output_type": "stream",
     "text": [
      "2.0.1+cpu\n"
     ]
    }
   ],
   "source": [
    "import torch as tr\n",
    "\n",
    "\"\"\"\n",
    "It has an extensive choice of tools and libraries that support Computer Vision, Natural Language Processing(NLP), and \n",
    "many more ML programs. recognize the relationship between words)\n",
    "Python program using PyTorch for defining tensors fit a two-layer network to random data and calculating the loss.\n",
    "\"\"\"\n",
    "\n",
    "print(tr.__version__)"
   ]
  },
  {
   "cell_type": "code",
   "execution_count": null,
   "id": "cc2f069b",
   "metadata": {},
   "outputs": [],
   "source": [
    "##initializing Tensor\n"
   ]
  }
 ],
 "metadata": {
  "kernelspec": {
   "display_name": "Python 3 (ipykernel)",
   "language": "python",
   "name": "python3"
  },
  "language_info": {
   "codemirror_mode": {
    "name": "ipython",
    "version": 3
   },
   "file_extension": ".py",
   "mimetype": "text/x-python",
   "name": "python",
   "nbconvert_exporter": "python",
   "pygments_lexer": "ipython3",
   "version": "3.11.3"
  }
 },
 "nbformat": 4,
 "nbformat_minor": 5
}
