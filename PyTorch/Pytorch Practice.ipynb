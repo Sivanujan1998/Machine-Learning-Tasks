{
 "cells": [
  {
   "cell_type": "code",
   "execution_count": 4,
   "id": "c6b76541",
   "metadata": {},
   "outputs": [
    {
     "name": "stdout",
     "output_type": "stream",
     "text": [
      "2.0.1+cpu\n"
     ]
    }
   ],
   "source": [
    "import torch\n",
    "\n",
    "\"\"\"\n",
    "It has an extensive choice of tools and libraries that support Computer Vision, Natural Language Processing(NLP), and \n",
    "many more ML programs. recognize the relationship between words)\n",
    "Python program using PyTorch for defining tensors fit a two-layer network to random data and calculating the loss.\n",
    "\"\"\"\n",
    "\n",
    "print(torch.__version__)"
   ]
  },
  {
   "cell_type": "code",
   "execution_count": 15,
   "id": "cc2f069b",
   "metadata": {},
   "outputs": [
    {
     "name": "stdout",
     "output_type": "stream",
     "text": [
      "tensor([[1., 2., 3.],\n",
      "        [4., 5., 6.]], requires_grad=True)\n",
      "torch.float32\n",
      "cpu\n",
      "torch.Size([2, 3])\n",
      "True\n"
     ]
    }
   ],
   "source": [
    "##initializing Tensor\n",
    "device=\"cuda\" if torch.cuda.is_available() else \"cpu\"\n",
    "my_tensor = torch.tensor([[1,2,3],[4,5,6]], dtype=torch.float32, device=device, requires_grad=True)\n",
    "\n",
    "print(my_tensor)\n",
    "print(my_tensor.dtype)\n",
    "print(my_tensor.device)\n",
    "print(my_tensor.shape)\n",
    "print(my_tensor.requires_grad)\n"
   ]
  },
  {
   "cell_type": "markdown",
   "id": "7046f06e",
   "metadata": {},
   "source": []
  },
  {
   "cell_type": "code",
   "execution_count": 41,
   "id": "5a6df2a1",
   "metadata": {},
   "outputs": [
    {
     "name": "stdout",
     "output_type": "stream",
     "text": [
      "tensor([[1., 0., 0.],\n",
      "        [0., 1., 0.],\n",
      "        [0., 0., 1.]])\n"
     ]
    }
   ],
   "source": [
    "# Other common initialization methods\n",
    "x1= torch.empty(size=(3,3))\n",
    "\"\"\"\n",
    "tensor([[0., 0., 0.],\n",
    "        [0., 0., 0.],\n",
    "        [0., 0., 0.]])\n",
    "\"\"\"\n",
    "\n",
    "x2= torch.zeros((3,3))\n",
    "\"\"\"\n",
    "tensor([[0., 0., 0.],\n",
    "        [0., 0., 0.],\n",
    "        [0., 0., 0.]])\n",
    "\"\"\"\n",
    "\n",
    "x3= torch.rand((3,3))\n",
    "\"\"\"\n",
    "tensor([[0.8156, 0.5082, 0.8837],\n",
    "        [0.5388, 0.7806, 0.6653],\n",
    "        [0.3834, 0.2005, 0.6963]])\n",
    "\"\"\"\n",
    "\n",
    "x4= torch.ones((3,3))\n",
    "\"\"\"\n",
    "tensor([[1., 1., 1.],\n",
    "        [1., 1., 1.],\n",
    "        [1., 1., 1.]])\n",
    "\"\"\"\n",
    "\n",
    "x5= torch.eye(3,3)\n",
    "\"\"\"\n",
    "tensor([[1., 0., 0.],\n",
    "        [0., 1., 0.],\n",
    "        [0., 0., 1.]])\n",
    "\"\"\"\n",
    "\n",
    "x6= torch.arange(start=0, end=5, step=1)\n",
    "\"\"\"\n",
    "tensor([0, 1, 2, 3, 4])\n",
    "\"\"\"\n",
    "\n",
    "x7= torch.linspace(start=0.1, end=2, steps=9)\n",
    "\"\"\"\n",
    "tensor([0.1000, 0.3375, 0.5750, 0.8125, 1.0500, 1.2875, 1.5250, 1.7625, 2.0000])\n",
    "\"\"\"\n",
    "\n",
    "x8= torch.empty(size=(1,5)).normal_(mean=0, std=1)\n",
    "\"\"\"\n",
    "tensor([[ 0.3494,  0.3771,  0.8429,  0.4100, -0.0471]])\n",
    "\"\"\"\n",
    "\n",
    "x9= torch.empty(size=(1,5)).uniform_(0,1)\n",
    "\"\"\"\n",
    "tensor([[0.3921, 0.1638, 0.1746, 0.2933, 0.2344]])\n",
    "\"\"\"\n",
    "\n",
    "x10= torch.diag(torch.ones(3))\n",
    "\"\"\"\n",
    "torch.diag() is a function that constructs a diagonal matrix from the given input tensor. \n",
    "tensor([[1., 0., 0.],\n",
    "        [0., 1., 0.],\n",
    "        [0., 0., 1.]])\n",
    "\"\"\"\n",
    "\n",
    "\n",
    "print(x10)\n",
    "\n"
   ]
  },
  {
   "cell_type": "code",
   "execution_count": null,
   "id": "e3bea157",
   "metadata": {},
   "outputs": [],
   "source": []
  }
 ],
 "metadata": {
  "kernelspec": {
   "display_name": "Python 3 (ipykernel)",
   "language": "python",
   "name": "python3"
  },
  "language_info": {
   "codemirror_mode": {
    "name": "ipython",
    "version": 3
   },
   "file_extension": ".py",
   "mimetype": "text/x-python",
   "name": "python",
   "nbconvert_exporter": "python",
   "pygments_lexer": "ipython3",
   "version": "3.11.3"
  }
 },
 "nbformat": 4,
 "nbformat_minor": 5
}
