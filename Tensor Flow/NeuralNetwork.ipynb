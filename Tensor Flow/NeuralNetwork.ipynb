{
 "cells": [
  {
   "cell_type": "code",
   "execution_count": 4,
   "metadata": {},
   "outputs": [],
   "source": [
    "import tensorflow as tf\n",
    "from tensorflow import keras\n",
    "from tensorflow.keras import layers\n",
    "from tensorflow.keras.datasets import mnist"
   ]
  },
  {
   "cell_type": "code",
   "execution_count": 9,
   "metadata": {},
   "outputs": [
    {
     "name": "stdout",
     "output_type": "stream",
     "text": [
      "(60000, 28, 28)\n",
      "(60000,)\n",
      "(60000, 784)\n",
      "(10000, 784)\n"
     ]
    }
   ],
   "source": [
    "(x_train, y_train),(x_test,y_test) = mnist.load_data()\n",
    "print(x_train.shape)\n",
    "print(y_train.shape)\n",
    "\n",
    "##make it same dimention\n",
    "x_train = x_train.reshape(-1,28*28).astype(\"float32\")/255.0\n",
    "x_test = x_test.reshape(-1,28*28).astype(\"float32\")/255.0\n",
    "print(x_train.shape)\n",
    "print(x_test.shape)"
   ]
  },
  {
   "cell_type": "code",
   "execution_count": 47,
   "metadata": {},
   "outputs": [
    {
     "name": "stdout",
     "output_type": "stream",
     "text": [
      "1875/1875 [==============================] - 11s 3ms/step\n"
     ]
    },
    {
     "name": "stderr",
     "output_type": "stream",
     "text": [
      "WARNING:absl:`lr` is deprecated in Keras optimizer, please use `learning_rate` or use the legacy optimizer, e.g.,tf.keras.optimizers.legacy.Adam.\n"
     ]
    },
    {
     "name": "stdout",
     "output_type": "stream",
     "text": [
      "(60000, 512)\n",
      "(60000, 256)\n",
      "(60000, 10)\n",
      "Epoch 1/5\n",
      "1875/1875 - 25s - loss: 2.3316 - accuracy: 0.1033 - 25s/epoch - 13ms/step\n",
      "Epoch 2/5\n",
      "1875/1875 - 18s - loss: 2.3022 - accuracy: 0.1010 - 18s/epoch - 10ms/step\n",
      "Epoch 3/5\n",
      "1875/1875 - 24s - loss: 2.3022 - accuracy: 0.1011 - 24s/epoch - 13ms/step\n",
      "Epoch 4/5\n",
      "1875/1875 - 26s - loss: 2.3024 - accuracy: 0.1012 - 26s/epoch - 14ms/step\n",
      "Epoch 5/5\n",
      "1875/1875 - 21s - loss: 2.3026 - accuracy: 0.0975 - 21s/epoch - 11ms/step\n",
      "313/313 - 7s - loss: 2.3026 - accuracy: 0.0974 - 7s/epoch - 21ms/step\n"
     ]
    },
    {
     "data": {
      "text/plain": [
       "[2.30259108543396, 0.09740000218153]"
      ]
     },
     "execution_count": 47,
     "metadata": {},
     "output_type": "execute_result"
    }
   ],
   "source": [
    "#sequential API (very convenient, not very flexible)\n",
    "model = keras.Sequential(\n",
    "    [\n",
    "        ##(512- nodes)\n",
    "        keras.Input(shape=(28*28)),\n",
    "        layers.Dense(512, activation='relu'),\n",
    "        layers.Dense(256, activation='relu'),\n",
    "        layers.Dense(10),\n",
    "    ]\n",
    ")\n",
    "\n",
    "\n",
    "#How to check the layer one by one\n",
    "model=keras.Sequential()\n",
    "model.add(keras.Input(shape=(784)))\n",
    "model.add(layers.Dense(512, activation='relu'))\n",
    "model.add(layers.Dense(256, activation='relu', name='my_layer'))\n",
    "model.add(layers.Dense(10))\n",
    "\n",
    "\n",
    "# Define the new model that outputs intermediate layer activations\n",
    "new_model = keras.Model(inputs=model.inputs,\n",
    "                        outputs=[layer.output for layer in model.layers])\n",
    "\n",
    "# Assuming x_train is your input data\n",
    "features = new_model.predict(x_train)\n",
    "\n",
    "for feature in features:\n",
    "    print(feature.shape)\n",
    "\n",
    "\n",
    "\"\"\"\n",
    "import sys\n",
    "sys.exit()\n",
    "\"\"\"\n",
    "\"\"\"\n",
    "\n",
    "#Functional API (A bit more flexible)\n",
    "inputs = keras.Input(shape=(784))\n",
    "x=layers.Dense(512, activation='relu', name=\"first_layer\")(inputs)\n",
    "x=layers.Dense(256, activation='relu', name=\"Second_Layer\")(x)\n",
    "outputs = layers.Dense(10, activation='softmax')(x)\n",
    "model = keras.Model(inputs=inputs, outputs=outputs)\n",
    "\n",
    "print(model.summary())\n",
    "\n",
    "\n",
    "print(model.summary())\n",
    "import sys\n",
    "sys.exit()\n",
    "\"\"\"\n",
    "\n",
    "model.compile(\n",
    "    loss=keras.losses.SparseCategoricalCrossentropy(from_logits=False), #activation='softmax' keep it as false otherwise true\n",
    "    optimizer=keras.optimizers.Adam(lr=0.001),\n",
    "    metrics=['accuracy'],\n",
    ")\n",
    "\n",
    "model.fit(x_train,y_train,batch_size=32,epochs=5,verbose=2)\n",
    "model.evaluate(x_test,y_test,batch_size=32,verbose=2)"
   ]
  }
 ],
 "metadata": {
  "kernelspec": {
   "display_name": "base",
   "language": "python",
   "name": "python3"
  },
  "language_info": {
   "codemirror_mode": {
    "name": "ipython",
    "version": 3
   },
   "file_extension": ".py",
   "mimetype": "text/x-python",
   "name": "python",
   "nbconvert_exporter": "python",
   "pygments_lexer": "ipython3",
   "version": "3.11.3"
  },
  "orig_nbformat": 4
 },
 "nbformat": 4,
 "nbformat_minor": 2
}
